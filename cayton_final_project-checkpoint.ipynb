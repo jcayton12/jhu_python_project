{
 "cells": [
  {
   "cell_type": "markdown",
   "id": "daae77bd",
   "metadata": {},
   "source": [
    "# Unleashing Open Data with Python Final Project\n",
    "John Cayton\n",
    "\n",
    "12/12/2021\n",
    "\n",
    "Github Project Page: https://github.com/jcayton12/jhu_python_project"
   ]
  },
  {
   "cell_type": "markdown",
   "id": "1d957f7f",
   "metadata": {},
   "source": [
    "### Part 1. Background Information \n",
    "**1. (1 points) State the research question:** \n",
    "\n",
    "What is the relationship between a state's unemployment rate and undergraduate enrollment numbers of its institutions?\n",
    "\n",
    "**2. (1 points) Write a short paragraph that provides some context for the research question.  Why is this an interesting relationship to study?  Why do you expect there to be a relationship?**\n",
    "\n",
    "The Lumina Foundation published a report roughly a decade ago expressing urgency in at least 60% of the US adult\n",
    "population attaining a postsecondary credential by 2025 in order to remain competitive in the global workforce. 46/50 states have adopted this goal and began implementing related initiatives. However, the country is still falling short of this 60% marker as of the most complete 2019 data.  \n",
    "\n",
    "This is especially relevant now with enrollments declining for a second straight year and the volatility of the economy with COVID-19. I am not confident that there will be a relationship between these variables, but am curious since pursuing a postsecondary credential is the traditional route to increasing one's job prospects. \n",
    "\n",
    "**3. (1 points) Cite the dataset you’ll be using:** \n",
    "\n",
    "This project uses Census American Community Survey (ACS) data through an API from the years 2015-19, and postsecondary data from The Integrated Postsecondary Education Data System (IPEDS) from 2016-20. \n",
    "\n",
    "**4. (1 points) Complete Table 1.  Only include those variables you’ll be using in your analysis.  Adjust the number of rows as necessary.** "
   ]
  },
  {
   "cell_type": "markdown",
   "id": "d4c7cf6b",
   "metadata": {},
   "source": [
    "#### Table 1. Variable Definitions"
   ]
  },
  {
   "cell_type": "markdown",
   "id": "85d35141",
   "metadata": {},
   "source": [
    "| Variable | Definition |\n",
    "| --- | --- |\n",
    "| state | The state of observation for each row | \n",
    "| hhincome | The median household income in 2019 inflation-adjusted dollars, as reported in the Census's ACS program |\n",
    "| bachgrad | The rate of state residents, ages 25 and older, who have earned a bachelor's degree or higher |\n",
    "| unemprate | The rate of the state labor force who were unemployed at the time of data collection | \n",
    "| tuition_fees | The average tuition and fees reported from all 2-year, 4-year and above for-profit, non-profit, and public institutions per state | \n",
    "| UG_enrollment | The average credential-seeking undergraduate enrollment in the Fall semester per institution in each state. reported from all 2-year, 4-year and above for-profit, non-profit, and public institutions. |\n",
    "| perc_admit | The average percentage of applicants who were granted admission into postsecondary institutions in the state |"
   ]
  },
  {
   "cell_type": "markdown",
   "id": "6f35b193",
   "metadata": {},
   "source": [
    "#### Data Prep"
   ]
  },
  {
   "cell_type": "code",
   "execution_count": 1,
   "id": "79b23ede",
   "metadata": {},
   "outputs": [],
   "source": [
    "# load libraries\n",
    "import numpy as np\n",
    "import pandas as pd\n",
    "import os \n",
    "import requests\n",
    "import json"
   ]
  },
  {
   "cell_type": "code",
   "execution_count": 2,
   "id": "09427f1d",
   "metadata": {},
   "outputs": [],
   "source": [
    "# load the datasets\n",
    "# ACS api\n",
    "# census_key = 'e73cfd6f719889d2b9140f8d32ce8600bbc83b88'\n",
    "\n",
    "# set census api endpoints (ADD MY CENSUS KEY AT THE END OF EACH ONE)\n",
    "# I am getting an invalid syntax message when I try to load the url as an object\n",
    "educattain_url = \"https://api.census.gov/data/2019/acs/acs1/cprofile?get=NAME,CP02_2015_062E,CP02_2015_068E,CP02_2016_062E,CP02_2016_068E,CP02_2017_062E,CP02_2017_068E,CP02_2018_062E,CP02_2018_068E,CP02_2019_062E,CP02_2019_068E&for=state:*&key=e73cfd6f719889d2b9140f8d32ce8600bbc83b88\"\n",
    "totpop_url = \"https://api.census.gov/data/2019/acs/acs1/cprofile?get=NAME,CP02_2015_087E,CP02_2016_087E,CP02_2017_087E,CP02_2018_087E,CP02_2019_087E&for=state:*&key=e73cfd6f719889d2b9140f8d32ce8600bbc83b88\"\n",
    "hhincome_url = \"https://api.census.gov/data/2019/acs/acs1/cprofile?get=NAME,CP03_2015_062E,CP03_2016_062E,CP03_2017_062E,CP03_2018_062E,CP03_2019_062E&for=state:*&key=e73cfd6f719889d2b9140f8d32ce8600bbc83b88\"\n",
    "unemprate_url = \"https://api.census.gov/data/2019/acs/acs1/cprofile?get=NAME,CP03_2015_009E,CP03_2016_009E,CP03_2017_009E,CP03_2018_009E,CP03_2019_009E&for=state:*&key=e73cfd6f719889d2b9140f8d32ce8600bbc83b88\"\n",
    "\n",
    "# It might be efficient to write a function to complete the same process for all 4 apis\n",
    "# I can reference Listing 3-13 from Mining Social Media if that's the route I want to take this time\n",
    "\n",
    "# request the apis\n",
    "educ_response = requests.get(educattain_url)\n",
    "totpop_resp = requests.get(totpop_url)\n",
    "hhincome_resp = requests.get(hhincome_url)\n",
    "unemprate_resp = requests.get(unemprate_url)\n",
    "# did they work? seem to! \n",
    "educ_response.status_code \n",
    "totpop_resp.status_code\n",
    "hhincome_resp.status_code\n",
    "unemprate_resp.status_code\n",
    "\n",
    "# convert to json\n",
    "educ_json = educ_response.json()\n",
    "totpop_json = totpop_resp.json()\n",
    "hhincome_json = hhincome_resp.json()\n",
    "unemprate_json = unemprate_resp.json()\n",
    "\n",
    "# convert the json objects to a df with pandas\n",
    "# make sure that the first list converts to the column names!\n",
    "educ_df = pd.DataFrame(educ_json, columns = educ_json[0])  \n",
    "totpop_df = pd.DataFrame(totpop_json, columns = totpop_json[0])\n",
    "hhincome_df = pd.DataFrame(hhincome_json, columns = hhincome_json[0])\n",
    "unemprate_df = pd.DataFrame(unemprate_json, columns = unemprate_json[0])\n",
    "\n",
    "# merge the df's by joining the columns\n",
    "census_df = pd.merge(totpop_df, educ_df)\n",
    "census_df = pd.merge(census_df, hhincome_df)\n",
    "census_df = pd.merge(census_df, unemprate_df)\n",
    "\n",
    "# Delete the first row [0] - it was added as the column names, but also kept as raw data.\n",
    "census_df = census_df.drop(labels = 0, axis = 0)\n",
    "census_df.columns\n",
    "\n",
    "# rename columns to be more intuitive\n",
    "# reference https://api.census.gov/data/2019/acs/acs1/cprofile/variables.html\n",
    "census_df.columns = ['state', 'totpop_2015', 'totpop_2016', 'totpop_2017', 'totpop_2018', 'totpop_2019', 'state_code',\n",
    "                     'hsgrad_2015', 'bachgrad_2015', 'hsgrad_2016', 'bachgrad_2016', 'hsgrad_2017', 'bachgrad_2017',\n",
    "                     'hsgrad_2018', 'bachgrad_2018', 'hsgrad_2019', 'bachgrad_2019',\n",
    "                     'hhincome_2015', 'hhincome_2016', 'hhincome_2017', 'hhincome_2018', 'hhincome_2019',\n",
    "                     'unemprate_2015', 'unemprate_2016', 'unemprate_2017', 'unemprate_2018', 'unemprate_2019']\n",
    "\n",
    "# make the state_code the index\n",
    "census_df = census_df.set_index('state_code')\n",
    "census_df.columns\n",
    "\n",
    "# many of the columns are the same variable over multiple years. consider pivoting long.\n",
    "# Ultimately, I want these columns: state, year, totpop, hsgrad, bachgrad, hhincome, and unemprate. \n",
    "census_long = pd.melt(census_df, id_vars=['state'])\n",
    "## drop Puerto Rico\n",
    "census_long = census_long[census_long.state != \"Puerto Rico\"]\n",
    "\n",
    "# split the variable column into a new 'year' column for census_long\n",
    "census_long[['variable', 'year']] = census_long['variable'].str.split(\"_\", expand = True)\n",
    "\n",
    "# now see if I can pivot totpop, hsgrad, bachgrad, hhincome, and unemprate to be columns.\n",
    "census_wide = census_long.pivot(index=['state', 'year'], columns='variable', values='value').reset_index()\n"
   ]
  },
  {
   "cell_type": "code",
   "execution_count": 3,
   "id": "b43fc69d",
   "metadata": {},
   "outputs": [
    {
     "data": {
      "text/plain": [
       "0.6793492784607162"
      ]
     },
     "execution_count": 3,
     "metadata": {},
     "output_type": "execute_result"
    }
   ],
   "source": [
    "# now import the IPEDS data\n",
    "\n",
    "# there are a total of 5632 institutions that receive Title IV funds and are in the US, which are my parameters. \n",
    "ipeds_f16 = pd.read_csv('https://raw.githubusercontent.com/jcayton12/jhu_python_project/main/ipeds_2016.csv?token=AOMYRBSZ3PVUE7DLZAF2UN3BQVFK2')\n",
    "ipeds_f17 = pd.read_csv('https://raw.githubusercontent.com/jcayton12/jhu_python_project/main/ipeds_2017.csv?token=AOMYRBVJZ3INJIXBBEBRILDBQVFNM')\n",
    "ipeds_f18 = pd.read_csv('https://raw.githubusercontent.com/jcayton12/jhu_python_project/main/ipeds_2018.csv?token=AOMYRBW6KCH6WR2J655AE2TBQVFTO')\n",
    "ipeds_f19 = pd.read_csv('https://raw.githubusercontent.com/jcayton12/jhu_python_project/main/ipeds_2019.csv?token=AOMYRBWGAJV64XYVIGGIO73BQVFVG')\n",
    "ipeds_f20 = pd.read_csv('https://raw.githubusercontent.com/jcayton12/jhu_python_project/main/ipeds_2020.csv?token=AOMYRBQVGAUTRQQXBFTQH6TBQVFWS')\n",
    "\n",
    "##############################################################################\n",
    "# rename the ipeds columns\n",
    "ipeds_f16.columns = ['unitid', 'school', 'year', 'UG_enrollment', 'tuition_fees', 'state', \n",
    "        'sector', 'open_admissions', 'total_apps', 'total_admit', 'total_enrolled', 'perc_admit', 'admissions_yield']\n",
    "ipeds_f17.columns = ['unitid', 'school', 'year', 'open_admissions', 'UG_enrollment', 'tuition_fees', 'state', \n",
    "                     'sector', 'total_apps', 'total_admit', 'total_enrolled', 'perc_admit', 'admissions_yield']\n",
    "ipeds_f18.columns = ['unitid', 'school', 'year', 'UG_enrollment', 'tuition_fees', 'state', 'sector', \n",
    "                     'open_admissions', 'total_apps', 'total_admit', 'total_enrolled', 'perc_admit', 'admissions_yield']\n",
    "ipeds_f19.columns = ['unitid', 'school', 'year', 'UG_enrollment', 'tuition_fees', 'state', 'sector', 'open_admissions', \n",
    "                     'total_apps', 'total_admit', 'total_enrolled', 'perc_admit', 'admissions_yield']\n",
    "ipeds_f20.columns = ['unitid', 'school', 'year', 'UG_enrollment', 'tuition_fees', 'state', 'sector', 'open_admissions',\n",
    "                     'total_apps', 'total_admit', 'total_enrolled', 'perc_admit', 'admissions_yield']\n",
    "\n",
    "# rearrange all ipeds columns to be in the same order \n",
    "col_order = ['unitid', 'school', 'state', 'sector', 'year', 'tuition_fees', 'UG_enrollment', 'total_apps', \n",
    "             'open_admissions', 'total_admit', 'perc_admit', 'total_enrolled', 'admissions_yield']\n",
    "ipeds_f16 = ipeds_f16.reindex(columns = col_order)\n",
    "ipeds_f17 = ipeds_f17.reindex(columns = col_order)\n",
    "ipeds_f18 = ipeds_f18.reindex(columns = col_order)\n",
    "ipeds_f19 = ipeds_f19.reindex(columns = col_order)\n",
    "ipeds_f20 = ipeds_f20.reindex(columns = col_order)\n",
    "\n",
    "# concatenate the ipeds df's\n",
    "ipeds_16_20 = pd.concat([ipeds_f16, ipeds_f17, ipeds_f18, ipeds_f19, ipeds_f20])\n",
    "\n",
    "# remove administrative units\n",
    "ipeds_16_20 = ipeds_16_20[ipeds_16_20.sector != 'Administrative Unit']\n",
    "\n",
    "#################################################################################\n",
    "# Deal with the missing values. \n",
    "# Reference IPEDS imputation methods: \n",
    "    # https://nces.ed.gov/ipeds/ReportYourData/IpedsSurveyMethodology#imputationprocedures\n",
    "    # https://nces.ed.gov/training/datauser/IPEDS_04.html\n",
    "\n",
    "# Here are some guiding Qs:\n",
    "# How will removing or replacing the missing values affect our analysis? Specifically:\n",
    "    ## What percentage of the data is missing? (as many as 20435 / 29936 (68%))\n",
    "    ## Will dropping missing values cause us to lose valuable information in other columns? (Yes)\n",
    "    ## Can we identify any patterns in the missing data? For example: \n",
    "        ## Is a lot of it 2020 since it's newest? \n",
    "        ## Is a lot of it specific sectors, like private for-profit? \n",
    "\n",
    "# first, how many nan values do we have for each column? \n",
    "ipeds_nan_count = ipeds_16_20.isnull().sum() # way too many\n",
    "\n",
    "# I want to see how the missing data breaks down by sector, year, and state. \n",
    "sector_nas = ipeds_16_20.set_index('sector').isna().sum(level=0)\n",
    "year_nas = ipeds_16_20.set_index('year').isna().sum(level=0)\n",
    "state_nas = ipeds_16_20.set_index('state').isna().sum(level=0)\n",
    "# NAs are pretty evenly distributed across the years. \n",
    "# for-profits are responsible for almost half of the missing values.\n",
    "# CA is missing the most data by far. Makes sense, they have the most schools.\n",
    "\n",
    "# is the IPEDS data missing at random, or not at random? \n",
    "# start with how many columns of each row have missing data? \n",
    "ipedsnullct = ipeds_16_20.isnull().sum(axis=1)\n",
    "# show me all rows with 5+ missing columns \n",
    "fiveplusna = ipedsnullct[ipedsnullct >= 5]\n",
    "# how much of the total rows is that?\n",
    "len(fiveplusna) / len(ipeds_16_20) \n",
    "\n",
    "# about 2/3 of the rows have at least 5 missing data points\n",
    "# that doesn't seem random. it's just missing, which makes me think schools likely didn't submit their info to IPEDS."
   ]
  },
  {
   "cell_type": "code",
   "execution_count": 4,
   "id": "e8475172",
   "metadata": {},
   "outputs": [],
   "source": [
    "# Impute using grouped averages \n",
    "\n",
    "# Take it one variable at a time, looking at categorical data first.\n",
    " \n",
    "# I can't impute missing state/sector/open_admissions data, so delete those missing.\n",
    "ipeds_16_20 = ipeds_16_20.dropna(subset = ['state', 'sector', 'open_admissions'])\n",
    "\n",
    "# now what % of nan values do we have for each column? \n",
    "ipeds_16_20.isnull().sum() / len(ipeds_16_20) * 100\n",
    "\n",
    "# Way too many of these vars are missing so I know what I do below is not acceptable in the \"real world\"\n",
    "# for the rest of these I want to impute by their peers (by sector and year).\n",
    "# side note. this feels like a good spot to try cluster analysis to find their peers in a \n",
    "# mathematical way. I won't do that here though.\n",
    "\n",
    "# the following imputations is based on the example from: \n",
    "    # https://www.kaggle.com/pankeshpatel/handing-missing-data-group-based-imputation\n",
    "\n",
    "# create a copy df to test \n",
    "ipeds_test = ipeds_16_20.copy()\n",
    "\n",
    "# tuition_fees (na = 42%)\n",
    "ipeds_test['tuition_fees'] = ipeds_test.groupby(['sector', 'year']).tuition_fees.transform(lambda x: x.fillna(x.mean()))\n",
    "\n",
    "# UG_enrollment (na = 1%)\n",
    "ipeds_test['UG_enrollment'] = ipeds_test.groupby(['sector', 'year']).UG_enrollment.transform(lambda x: x.fillna(x.mean()))\n",
    "\n",
    "# total_apps (na = 67%)\n",
    "ipeds_test['total_apps'] = ipeds_test.groupby(['sector', 'year']).total_apps.transform(lambda x: x.fillna(x.mean()))    \n",
    "\n",
    "# total_admit (na = 67%)\n",
    "ipeds_test['total_admit'] = ipeds_test.groupby(['sector', 'year']).total_admit.transform(lambda x: x.fillna(x.mean()))\n",
    "\n",
    "# perc_admit (na = 67%)\n",
    "ipeds_test['perc_admit'] = ipeds_test.groupby(['sector', 'year']).perc_admit.transform(lambda x: x.fillna(x.mean()))\n",
    "\n",
    "# total_enrolled (na = 67%)\n",
    "ipeds_test['total_enrolled'] = ipeds_test.groupby(['sector', 'year']).total_enrolled.transform(lambda x: x.fillna(x.mean()))\n",
    "\n",
    "# admissions_yield (na = 67%)\n",
    "ipeds_test['admissions_yield'] = ipeds_test.groupby(['sector', 'year']).admissions_yield.transform(lambda x: x.fillna(x.mean()))\n",
    "\n",
    "# did it work? \n",
    "ipeds_test.isnull().sum() # yes, there are no missing values\n",
    "\n",
    "# how much did imputing alter the data? compare the original and test df's\n",
    "og_stats = ipeds_test.describe()\n",
    "test_stats = ipeds_16_20.describe()\n",
    "og_grpmeanscompare = og_stats.compare(test_stats)\n",
    "# some of the vars were notably altered, which makes sense with how many were NA.\n",
    "\n",
    "# replace the test df with an intuitive name\n",
    "ipeds_grpmeans = ipeds_test"
   ]
  },
  {
   "cell_type": "code",
   "execution_count": 5,
   "id": "bd78eb3f",
   "metadata": {},
   "outputs": [],
   "source": [
    "# create a new df with the IPEDS data for each state and each year: \n",
    "test = ipeds_grpmeans.groupby(['state', 'year']).mean()\n",
    "\n",
    "## this worked, but do it again excluding unitid and year. It calculated those too.\n",
    "## probably easiest to convert unitid and year to str or categorical data\n",
    "ipeds_new = ipeds_grpmeans.astype({'unitid': 'str',\n",
    "                  'year': 'category'})\n",
    "\n",
    "# now this works. It's okay that the other columns (e.g., open_admissions) were dropped. Can't use them to join with census anyway. \n",
    "ipedsnew_avgs = ipeds_grpmeans.groupby(['state', 'year'], as_index = False).mean().rename(\n",
    "    columns= {'year': 'acad_yr',\n",
    "              'state': 'state1'})\n"
   ]
  },
  {
   "cell_type": "code",
   "execution_count": 6,
   "id": "c42f18d7",
   "metadata": {},
   "outputs": [],
   "source": [
    "# join the cleaned up IPEDS data with the census_wide\n",
    "acs_ipeds = pd.concat([census_wide, ipedsnew_avgs], axis=1) \n",
    "# now drop the duplicate state column and unitid\n",
    "acs_ipeds = acs_ipeds.drop(['state1', 'unitid'], axis=1)"
   ]
  },
  {
   "cell_type": "markdown",
   "id": "aeaabf05",
   "metadata": {},
   "source": [
    "#### Explore the New Dataset"
   ]
  },
  {
   "cell_type": "code",
   "execution_count": 7,
   "id": "e5cfc9f0",
   "metadata": {},
   "outputs": [
    {
     "data": {
      "text/plain": [
       "state                object\n",
       "year                 object\n",
       "bachgrad            float64\n",
       "hhincome            float64\n",
       "hsgrad              float64\n",
       "totpop                int32\n",
       "unemprate           float64\n",
       "acad_yr              object\n",
       "tuition_fees        float64\n",
       "UG_enrollment       float64\n",
       "total_apps          float64\n",
       "total_admit         float64\n",
       "perc_admit          float64\n",
       "total_enrolled      float64\n",
       "admissions_yield    float64\n",
       "dtype: object"
      ]
     },
     "execution_count": 7,
     "metadata": {},
     "output_type": "execute_result"
    }
   ],
   "source": [
    "# Explore the new dataset\n",
    "# first make sure it's all in the right format.\n",
    "# check dtypes.\n",
    "acs_ipeds.dtypes\n",
    "\n",
    "# first correct dtypes for the df\n",
    "acs_ipeds = acs_ipeds.astype({'bachgrad': float,\n",
    "                              'hhincome': float,\n",
    "                              'hsgrad': float,\n",
    "                              'totpop': int,\n",
    "                              'unemprate': float,\n",
    "                              'acad_yr': object})\n",
    "# did it work?\n",
    "acs_ipeds.dtypes"
   ]
  },
  {
   "cell_type": "code",
   "execution_count": 8,
   "id": "a62cdcbf",
   "metadata": {
    "scrolled": true
   },
   "outputs": [
    {
     "name": "stdout",
     "output_type": "stream",
     "text": [
      "Variable             Type         Data/Info\n",
      "-------------------------------------------\n",
      "acs_ipeds            DataFrame           state  year  bachg<...>\\n[255 rows x 15 columns]\n",
      "census_df            DataFrame                             <...>n\\n[52 rows x 26 columns]\n",
      "census_long          DataFrame                         stat<...>\\n[1275 rows x 4 columns]\n",
      "census_wide          DataFrame    variable    state  year b<...>n\\n[255 rows x 7 columns]\n",
      "col_order            list         n=13\n",
      "educ_df              DataFrame                        NAME <...>            59.7     11  \n",
      "educ_json            list         n=53\n",
      "educ_response        Response     <Response [200]>\n",
      "educattain_url       str          https://api.census.gov/da<...>2b9140f8d32ce8600bbc83b88\n",
      "fiveplusna           Series       2       5\\n7       5\\n8  <...>ngth: 20337, dtype: int64\n",
      "hhincome_df          DataFrame                        NAME <...>           92266     11  \n",
      "hhincome_json        list         n=53\n",
      "hhincome_resp        Response     <Response [200]>\n",
      "hhincome_url         str          https://api.census.gov/da<...>2b9140f8d32ce8600bbc83b88\n",
      "ipeds_16_20          DataFrame          unitid             <...>[28868 rows x 13 columns]\n",
      "ipeds_f16            DataFrame          unitid             <...>n[6054 rows x 13 columns]\n",
      "ipeds_f17            DataFrame          unitid             <...>n[6054 rows x 13 columns]\n",
      "ipeds_f18            DataFrame          unitid             <...>n[6054 rows x 13 columns]\n",
      "ipeds_f19            DataFrame          unitid             <...>n[6054 rows x 13 columns]\n",
      "ipeds_f20            DataFrame          unitid             <...>n[6054 rows x 13 columns]\n",
      "ipeds_grpmeans       DataFrame          unitid             <...>[28868 rows x 13 columns]\n",
      "ipeds_nan_count      Series       unitid                  0<...>ld    20415\\ndtype: int64\n",
      "ipeds_new            DataFrame          unitid             <...>[28868 rows x 13 columns]\n",
      "ipeds_test           DataFrame          unitid             <...>[28868 rows x 13 columns]\n",
      "ipedsnew_avgs        DataFrame          state1  acad_yr    <...>\\n[255 rows x 10 columns]\n",
      "ipedsnullct          Series       0       0\\n1       0\\n2  <...>ngth: 29936, dtype: int64\n",
      "json                 module       <module 'json' from 'C:\\\\<...>\\lib\\\\json\\\\__init__.py'>\n",
      "np                   module       <module 'numpy' from 'C:\\<...>ges\\\\numpy\\\\__init__.py'>\n",
      "og_grpmeanscompare   DataFrame           tuition_fees      <...> 68.360000    50.000000  \n",
      "og_stats             DataFrame                  unitid     <...>max          100.000000  \n",
      "os                   module       <module 'os' from 'C:\\\\Ap<...>\\\\anaconda3\\\\lib\\\\os.py'>\n",
      "pd                   module       <module 'pandas' from 'C:<...>es\\\\pandas\\\\__init__.py'>\n",
      "requests             module       <module 'requests' from '<...>\\\\requests\\\\__init__.py'>\n",
      "sector_nas           DataFrame                             <...>   39                39  \n",
      "state_nas            DataFrame                          uni<...>   45                45  \n",
      "test                 DataFrame                         unit<...>n\\n[255 rows x 8 columns]\n",
      "test_stats           DataFrame                  unitid     <...>max          100.000000  \n",
      "totpop_df            DataFrame                        NAME <...>          705749     11  \n",
      "totpop_json          list         n=53\n",
      "totpop_resp          Response     <Response [200]>\n",
      "totpop_url           str          https://api.census.gov/da<...>2b9140f8d32ce8600bbc83b88\n",
      "unemprate_df         DataFrame                        NAME <...>             6.3     11  \n",
      "unemprate_json       list         n=53\n",
      "unemprate_resp       Response     <Response [200]>\n",
      "unemprate_url        str          https://api.census.gov/da<...>2b9140f8d32ce8600bbc83b88\n",
      "year_nas             DataFrame          unitid  school  sta<...>n2020              4087  \n"
     ]
    }
   ],
   "source": [
    "# I want to pause and see all my objects in this environment\n",
    "%whos"
   ]
  },
  {
   "cell_type": "markdown",
   "id": "332a5eb2",
   "metadata": {},
   "source": [
    "### Part 2. Descriptive Information"
   ]
  },
  {
   "cell_type": "markdown",
   "id": "61354663",
   "metadata": {},
   "source": [
    "**5. (2 points) Complete the table of summary statistics.  Add or delete rows as necessary.**"
   ]
  },
  {
   "cell_type": "code",
   "execution_count": 9,
   "id": "1f721cdc",
   "metadata": {},
   "outputs": [
    {
     "data": {
      "text/plain": [
       "(254, 15)"
      ]
     },
     "execution_count": 9,
     "metadata": {},
     "output_type": "execute_result"
    }
   ],
   "source": [
    "# start with summary stats for all the variables\n",
    "summary_stats = acs_ipeds.describe().round() \n",
    "# print(summary_stats)\n",
    "\n",
    "# Delaware 2017 hhincome and unemprate columns are suppressed by census. drop that row.\n",
    "acs_ipeds = acs_ipeds.drop(acs_ipeds.index[37])\n",
    "# double check it worked\n",
    "acs_ipeds[acs_ipeds['state'] == 'Delaware']\n",
    "acs_ipeds.shape"
   ]
  },
  {
   "cell_type": "code",
   "execution_count": 10,
   "id": "ea2a2253",
   "metadata": {},
   "outputs": [
    {
     "name": "stdout",
     "output_type": "stream",
     "text": [
      "       bachgrad  hhincome  hsgrad       totpop  unemprate  tuition_fees  \\\n",
      "count    254.00    254.00  254.00       254.00     254.00        254.00   \n",
      "mean      31.57  62726.45   28.15   6396498.18       5.13      15897.64   \n",
      "std        6.41  10748.82    4.16   7242167.12       1.23       4451.56   \n",
      "min       19.60  43475.00   15.80    577737.00       2.60       5513.34   \n",
      "25%       27.60  54905.75   25.72   1788335.50       4.20      13235.58   \n",
      "50%       30.40  60527.50   28.05   4460931.00       5.10      15579.58   \n",
      "75%       34.78  70920.75   30.98   7285679.25       5.90      17805.83   \n",
      "max       60.40  92266.00   41.20  39557045.00       8.90      30939.94   \n",
      "\n",
      "       UG_enrollment  total_apps  total_admit  perc_admit  total_enrolled  \\\n",
      "count         254.00      254.00       254.00      254.00          254.00   \n",
      "mean         2808.82     2964.04      1821.03       72.96          521.69   \n",
      "std           801.81     1023.06       486.95        3.72          108.82   \n",
      "min          1471.21     1368.68       892.26       64.22          315.28   \n",
      "25%          2252.16     2252.01      1482.16       70.32          454.13   \n",
      "50%          2716.20     2717.84      1735.04       73.02          499.43   \n",
      "75%          3287.90     3343.36      2041.84       75.93          574.43   \n",
      "max          5522.88     6909.49      3897.48       81.91          989.96   \n",
      "\n",
      "       admissions_yield  \n",
      "count            254.00  \n",
      "mean              50.70  \n",
      "std                4.73  \n",
      "min               35.00  \n",
      "25%               47.57  \n",
      "50%               50.61  \n",
      "75%               53.80  \n",
      "max               63.08  \n"
     ]
    }
   ],
   "source": [
    "# try again\n",
    "summary_stats = acs_ipeds.describe().round(2) \n",
    "# print the updated version\n",
    "print(summary_stats)"
   ]
  },
  {
   "cell_type": "code",
   "execution_count": 11,
   "id": "a540036d",
   "metadata": {
    "scrolled": false
   },
   "outputs": [
    {
     "name": "stdout",
     "output_type": "stream",
     "text": [
      "                  bachgrad  hhincome  hsgrad  totpop  unemprate  tuition_fees  \\\n",
      "bachgrad              1.00      0.82   -0.73    0.04      -0.16          0.57   \n",
      "hhincome              0.82      1.00   -0.65    0.09      -0.20          0.36   \n",
      "hsgrad               -0.73     -0.65    1.00   -0.23       0.08         -0.17   \n",
      "totpop                0.04      0.09   -0.23    1.00       0.17          0.09   \n",
      "unemprate            -0.16     -0.20    0.08    0.17       1.00         -0.13   \n",
      "tuition_fees          0.57      0.36   -0.17    0.09      -0.13          1.00   \n",
      "UG_enrollment         0.15      0.30   -0.50    0.27       0.04          0.02   \n",
      "total_apps            0.68      0.50   -0.47    0.10       0.05          0.60   \n",
      "total_admit           0.53      0.42   -0.41   -0.02      -0.14          0.45   \n",
      "perc_admit           -0.20     -0.03    0.08   -0.01      -0.39         -0.14   \n",
      "total_enrolled        0.27      0.22   -0.36   -0.15      -0.07         -0.00   \n",
      "admissions_yield     -0.40     -0.21    0.14    0.20       0.28         -0.58   \n",
      "\n",
      "                  UG_enrollment  total_apps  total_admit  perc_admit  \\\n",
      "bachgrad                   0.15        0.68         0.53       -0.20   \n",
      "hhincome                   0.30        0.50         0.42       -0.03   \n",
      "hsgrad                    -0.50       -0.47        -0.41        0.08   \n",
      "totpop                     0.27        0.10        -0.02       -0.01   \n",
      "unemprate                  0.04        0.05        -0.14       -0.39   \n",
      "tuition_fees               0.02        0.60         0.45       -0.14   \n",
      "UG_enrollment              1.00        0.20         0.28        0.09   \n",
      "total_apps                 0.20        1.00         0.90       -0.24   \n",
      "total_admit                0.28        0.90         1.00        0.01   \n",
      "perc_admit                 0.09       -0.24         0.01        1.00   \n",
      "total_enrolled             0.33        0.65         0.78       -0.04   \n",
      "admissions_yield           0.19       -0.52        -0.53        0.18   \n",
      "\n",
      "                  total_enrolled  admissions_yield  \n",
      "bachgrad                    0.27             -0.40  \n",
      "hhincome                    0.22             -0.21  \n",
      "hsgrad                     -0.36              0.14  \n",
      "totpop                     -0.15              0.20  \n",
      "unemprate                  -0.07              0.28  \n",
      "tuition_fees               -0.00             -0.58  \n",
      "UG_enrollment               0.33              0.19  \n",
      "total_apps                  0.65             -0.52  \n",
      "total_admit                 0.78             -0.53  \n",
      "perc_admit                 -0.04              0.18  \n",
      "total_enrolled              1.00             -0.29  \n",
      "admissions_yield           -0.29              1.00  \n"
     ]
    }
   ],
   "source": [
    "# run a correlation matrix to see if vars I plan on including are strongly related.\n",
    "corrtest = acs_ipeds.corr().round(2)\n",
    "print(corrtest)"
   ]
  },
  {
   "cell_type": "markdown",
   "id": "db212a76",
   "metadata": {},
   "source": [
    "**6. (2 points) Create one visualization of the dependent variable (e.g. bar graph, line graph, boxplot, histogram).  Be sure the visualization includes all the critical components, including a title, meaningful axes labels and any other useful labels.**  "
   ]
  },
  {
   "cell_type": "code",
   "execution_count": 12,
   "id": "585f3635",
   "metadata": {},
   "outputs": [
    {
     "data": {
      "image/png": "[encoded data removed]",
      "text/plain": [
       "<Figure size 360x360 with 1 Axes>"
      ]
     },
     "metadata": {
      "needs_background": "light"
     },
     "output_type": "display_data"
    }
   ],
   "source": [
    "# make a figure of the UG_enrollment (the DV)\n",
    "import seaborn as sns\n",
    "import matplotlib.pyplot as plt\n",
    "enrollment_hist = sns.displot(x = 'UG_enrollment', data = acs_ipeds, binwidth = 100, bins = 50\n",
    "                             ).set(xlabel = 'Avg. Enrollment', \n",
    "                                title = \"Fig 1. Undergrad Enrollment Dist. AY 2016-20\")\n",
    "plt.show(enrollment_hist)"
   ]
  },
  {
   "cell_type": "markdown",
   "id": "3391c1f3",
   "metadata": {},
   "source": [
    "**7. (1 points) Write a one-sentence summary of the visualization above.  What is something interesting about the variable that the visualization highlights?**"
   ]
  },
  {
   "cell_type": "markdown",
   "id": "e3281925",
   "metadata": {},
   "source": [
    "Figure 1's histogram shows that the distribution of a state's institutions' average undergraduate enrollment has a somewhat positive skew. There are a handful of states whose institutions have a notably higher average enrollment (between 4500-5500) than most of the others. "
   ]
  },
  {
   "cell_type": "markdown",
   "id": "ad697be5",
   "metadata": {},
   "source": [
    "**8. (2 points) Create one visualization of the independent variable of interest (e.g. bar graph, line graph, histogram).  Be sure the visualization includes all the critical components, including a title, meaningful axes labels and any other useful labels.  If you have more than one independent variable of interest, select one for this question.**"
   ]
  },
  {
   "cell_type": "code",
   "execution_count": 13,
   "id": "09216e0e",
   "metadata": {},
   "outputs": [
    {
     "data": {
      "image/png": "[encoded data removed]",
      "text/plain": [
       "<Figure size 432x288 with 1 Axes>"
      ]
     },
     "metadata": {
      "needs_background": "light"
     },
     "output_type": "display_data"
    }
   ],
   "source": [
    "# make a figure of at least one of the IV's (my choice)\n",
    "# try for unemprate by year\n",
    "bxplot = sns.boxplot(x = 'year', y = 'unemprate', data = acs_ipeds).set(xlabel = \"Year\", \n",
    "                                                               ylabel = \"Avg. Unemployment Rate (%)\",\n",
    "                                                               title = \"Fig 2. Unemployment Rates, 2015-19\",\n",
    "                                                               ylim = (0,10))\n",
    "plt.show(bxplot)"
   ]
  },
  {
   "cell_type": "markdown",
   "id": "0ad3e711",
   "metadata": {},
   "source": [
    "**9. (1 points) Write a one-sentence summary of the visualization above.  What is something interesting about the variable that the visualization highlights?**"
   ]
  },
  {
   "cell_type": "markdown",
   "id": "db949a47",
   "metadata": {},
   "source": [
    "The Figure 2 boxplot shows that the widest range of unemployment rates by state was in 2015, decreasing through 2019. 2019 is the only year to have a state with an outlier value of high unemployment compared to the other states. "
   ]
  },
  {
   "cell_type": "markdown",
   "id": "21695df9",
   "metadata": {},
   "source": [
    "**10. (2 points) Create one bivariate relationship that shows the relationship between the two variables used above (e.g. scatter plot, side-by-side bar plot, line graph).**"
   ]
  },
  {
   "cell_type": "code",
   "execution_count": 17,
   "id": "97c91ecf",
   "metadata": {},
   "outputs": [
    {
     "data": {
      "image/png": "[encoded data removed]",
      "text/plain": [
       "<Figure size 432x288 with 1 Axes>"
      ]
     },
     "metadata": {
      "needs_background": "light"
     },
     "output_type": "display_data"
    }
   ],
   "source": [
    "# make a figure showing the bivariate relationship between the IV and DV used above. \n",
    "# does a higher unemprate increase UG_enrollment?\n",
    "emp_enrollment = sns.regplot(x = 'unemprate', y = 'UG_enrollment', data = acs_ipeds).set(xlabel = 'Unemployment Rate (%)', \n",
    "                                                                        ylabel = 'Avg. Undergrad Enrollment', \n",
    "                                                                        title = 'Fig 3. Does unemployment rate impact enrollment numbers?')\n",
    "plt.show(emp_enrollment)"
   ]
  },
  {
   "cell_type": "markdown",
   "id": "9e2b989d",
   "metadata": {},
   "source": [
    "**11. (1 points) Write a one-sentence summary of the visualization above.  What is something interesting about the relationship that the visualization highlights?**"
   ]
  },
  {
   "cell_type": "markdown",
   "id": "c8f998c0",
   "metadata": {},
   "source": [
    "Figure 3 shows that there is a weak, seemingly nonexistent, relationship between a state's unemployment rate and it's institutions' average undergraduate enrollment. "
   ]
  },
  {
   "cell_type": "markdown",
   "id": "f70ec517",
   "metadata": {},
   "source": [
    "### Part 3. Regression Analysis"
   ]
  },
  {
   "cell_type": "markdown",
   "id": "2fcf806c",
   "metadata": {},
   "source": [
    "**12. (5 points) Run a bivariate regression model that includes your dependent variable and one independent variable of interest.**\n",
    "\n",
    "**Run a multivariate regression model that includes your dependent variable, one or more independent variables of interest and at least one control variable.**\n",
    "\n",
    "**Complete Table 3 with your regression results.  List the independent variables (using meaningful variable names) in the first column.  Include your bivariate model results in the second column and the multivariate model results in the third column.  For each variable, list the estimated coefficient and the estimated standard error beneath in parentheses.  Include only two digits beyond the decimal point.  Add or delete rows as necessary.**"
   ]
  },
  {
   "cell_type": "code",
   "execution_count": 15,
   "id": "d85edd3d",
   "metadata": {},
   "outputs": [
    {
     "data": {
      "text/html": [
       "<table class=\"simpletable\">\n",
       "<caption>OLS Regression Results</caption>\n",
       "<tr>\n",
       "  <th>Dep. Variable:</th>      <td>UG_enrollment</td>  <th>  R-squared:         </th> <td>   0.002</td>\n",
       "</tr>\n",
       "<tr>\n",
       "  <th>Model:</th>                   <td>OLS</td>       <th>  Adj. R-squared:    </th> <td>  -0.002</td>\n",
       "</tr>\n",
       "<tr>\n",
       "  <th>Method:</th>             <td>Least Squares</td>  <th>  F-statistic:       </th> <td>  0.4833</td>\n",
       "</tr>\n",
       "<tr>\n",
       "  <th>Date:</th>             <td>Tue, 07 Dec 2021</td> <th>  Prob (F-statistic):</th>  <td> 0.488</td> \n",
       "</tr>\n",
       "<tr>\n",
       "  <th>Time:</th>                 <td>17:17:19</td>     <th>  Log-Likelihood:    </th> <td> -2058.1</td>\n",
       "</tr>\n",
       "<tr>\n",
       "  <th>No. Observations:</th>      <td>   254</td>      <th>  AIC:               </th> <td>   4120.</td>\n",
       "</tr>\n",
       "<tr>\n",
       "  <th>Df Residuals:</th>          <td>   252</td>      <th>  BIC:               </th> <td>   4127.</td>\n",
       "</tr>\n",
       "<tr>\n",
       "  <th>Df Model:</th>              <td>     1</td>      <th>                     </th>     <td> </td>   \n",
       "</tr>\n",
       "<tr>\n",
       "  <th>Covariance Type:</th>      <td>nonrobust</td>    <th>                     </th>     <td> </td>   \n",
       "</tr>\n",
       "</table>\n",
       "<table class=\"simpletable\">\n",
       "<tr>\n",
       "      <td></td>         <th>coef</th>     <th>std err</th>      <th>t</th>      <th>P>|t|</th>  <th>[0.025</th>    <th>0.975]</th>  \n",
       "</tr>\n",
       "<tr>\n",
       "  <th>Intercept</th> <td> 2662.8933</td> <td>  215.866</td> <td>   12.336</td> <td> 0.000</td> <td> 2237.762</td> <td> 3088.025</td>\n",
       "</tr>\n",
       "<tr>\n",
       "  <th>unemprate</th> <td>   28.4620</td> <td>   40.941</td> <td>    0.695</td> <td> 0.488</td> <td>  -52.167</td> <td>  109.091</td>\n",
       "</tr>\n",
       "</table>\n",
       "<table class=\"simpletable\">\n",
       "<tr>\n",
       "  <th>Omnibus:</th>       <td>32.611</td> <th>  Durbin-Watson:     </th> <td>   0.490</td>\n",
       "</tr>\n",
       "<tr>\n",
       "  <th>Prob(Omnibus):</th> <td> 0.000</td> <th>  Jarque-Bera (JB):  </th> <td>  42.922</td>\n",
       "</tr>\n",
       "<tr>\n",
       "  <th>Skew:</th>          <td> 0.860</td> <th>  Prob(JB):          </th> <td>4.78e-10</td>\n",
       "</tr>\n",
       "<tr>\n",
       "  <th>Kurtosis:</th>      <td> 4.049</td> <th>  Cond. No.          </th> <td>    23.4</td>\n",
       "</tr>\n",
       "</table><br/><br/>Notes:<br/>[1] Standard Errors assume that the covariance matrix of the errors is correctly specified."
      ],
      "text/plain": [
       "<class 'statsmodels.iolib.summary.Summary'>\n",
       "\"\"\"\n",
       "                            OLS Regression Results                            \n",
       "==============================================================================\n",
       "Dep. Variable:          UG_enrollment   R-squared:                       0.002\n",
       "Model:                            OLS   Adj. R-squared:                 -0.002\n",
       "Method:                 Least Squares   F-statistic:                    0.4833\n",
       "Date:                Tue, 07 Dec 2021   Prob (F-statistic):              0.488\n",
       "Time:                        17:17:19   Log-Likelihood:                -2058.1\n",
       "No. Observations:                 254   AIC:                             4120.\n",
       "Df Residuals:                     252   BIC:                             4127.\n",
       "Df Model:                           1                                         \n",
       "Covariance Type:            nonrobust                                         \n",
       "==============================================================================\n",
       "                 coef    std err          t      P>|t|      [0.025      0.975]\n",
       "------------------------------------------------------------------------------\n",
       "Intercept   2662.8933    215.866     12.336      0.000    2237.762    3088.025\n",
       "unemprate     28.4620     40.941      0.695      0.488     -52.167     109.091\n",
       "==============================================================================\n",
       "Omnibus:                       32.611   Durbin-Watson:                   0.490\n",
       "Prob(Omnibus):                  0.000   Jarque-Bera (JB):               42.922\n",
       "Skew:                           0.860   Prob(JB):                     4.78e-10\n",
       "Kurtosis:                       4.049   Cond. No.                         23.4\n",
       "==============================================================================\n",
       "\n",
       "Notes:\n",
       "[1] Standard Errors assume that the covariance matrix of the errors is correctly specified.\n",
       "\"\"\""
      ]
     },
     "execution_count": 15,
     "metadata": {},
     "output_type": "execute_result"
    }
   ],
   "source": [
    "# Model the data \n",
    "import statsmodels.formula.api as smf\n",
    "\n",
    "# start with just a bivariate regression, choosing one of the IV's.\n",
    "# Q. Does unemprate relate to UG_enrollment?\n",
    "# create the model \n",
    "bvmodel = smf.ols('UG_enrollment ~ unemprate', data = acs_ipeds)\n",
    "# fit the model\n",
    "bvresults = bvmodel.fit()\n",
    "# print the results\n",
    "bvresults.summary()\n"
   ]
  },
  {
   "cell_type": "markdown",
   "id": "2de35248",
   "metadata": {},
   "source": [
    "#### Multiple Regression Model"
   ]
  },
  {
   "cell_type": "code",
   "execution_count": 16,
   "id": "7ff651ee",
   "metadata": {},
   "outputs": [
    {
     "data": {
      "text/html": [
       "<table class=\"simpletable\">\n",
       "<caption>OLS Regression Results</caption>\n",
       "<tr>\n",
       "  <th>Dep. Variable:</th>      <td>UG_enrollment</td>  <th>  R-squared:         </th> <td>   0.131</td>\n",
       "</tr>\n",
       "<tr>\n",
       "  <th>Model:</th>                   <td>OLS</td>       <th>  Adj. R-squared:    </th> <td>   0.117</td>\n",
       "</tr>\n",
       "<tr>\n",
       "  <th>Method:</th>             <td>Least Squares</td>  <th>  F-statistic:       </th> <td>   9.360</td>\n",
       "</tr>\n",
       "<tr>\n",
       "  <th>Date:</th>             <td>Tue, 07 Dec 2021</td> <th>  Prob (F-statistic):</th> <td>4.61e-07</td>\n",
       "</tr>\n",
       "<tr>\n",
       "  <th>Time:</th>                 <td>17:17:19</td>     <th>  Log-Likelihood:    </th> <td> -2040.6</td>\n",
       "</tr>\n",
       "<tr>\n",
       "  <th>No. Observations:</th>      <td>   254</td>      <th>  AIC:               </th> <td>   4091.</td>\n",
       "</tr>\n",
       "<tr>\n",
       "  <th>Df Residuals:</th>          <td>   249</td>      <th>  BIC:               </th> <td>   4109.</td>\n",
       "</tr>\n",
       "<tr>\n",
       "  <th>Df Model:</th>              <td>     4</td>      <th>                     </th>     <td> </td>   \n",
       "</tr>\n",
       "<tr>\n",
       "  <th>Covariance Type:</th>      <td>nonrobust</td>    <th>                     </th>     <td> </td>   \n",
       "</tr>\n",
       "</table>\n",
       "<table class=\"simpletable\">\n",
       "<tr>\n",
       "        <td></td>          <th>coef</th>     <th>std err</th>      <th>t</th>      <th>P>|t|</th>  <th>[0.025</th>    <th>0.975]</th>  \n",
       "</tr>\n",
       "<tr>\n",
       "  <th>Intercept</th>    <td>-1741.0396</td> <td> 1234.057</td> <td>   -1.411</td> <td> 0.160</td> <td>-4171.560</td> <td>  689.481</td>\n",
       "</tr>\n",
       "<tr>\n",
       "  <th>unemprate</th>    <td>  108.7094</td> <td>   43.162</td> <td>    2.519</td> <td> 0.012</td> <td>   23.700</td> <td>  193.719</td>\n",
       "</tr>\n",
       "<tr>\n",
       "  <th>perc_admit</th>   <td>   34.1865</td> <td>   14.139</td> <td>    2.418</td> <td> 0.016</td> <td>    6.340</td> <td>   62.033</td>\n",
       "</tr>\n",
       "<tr>\n",
       "  <th>hhincome</th>     <td>    0.0272</td> <td>    0.005</td> <td>    5.664</td> <td> 0.000</td> <td>    0.018</td> <td>    0.037</td>\n",
       "</tr>\n",
       "<tr>\n",
       "  <th>tuition_fees</th> <td>   -0.0130</td> <td>    0.012</td> <td>   -1.120</td> <td> 0.264</td> <td>   -0.036</td> <td>    0.010</td>\n",
       "</tr>\n",
       "</table>\n",
       "<table class=\"simpletable\">\n",
       "<tr>\n",
       "  <th>Omnibus:</th>       <td>26.875</td> <th>  Durbin-Watson:     </th> <td>   0.581</td>\n",
       "</tr>\n",
       "<tr>\n",
       "  <th>Prob(Omnibus):</th> <td> 0.000</td> <th>  Jarque-Bera (JB):  </th> <td>  32.572</td>\n",
       "</tr>\n",
       "<tr>\n",
       "  <th>Skew:</th>          <td> 0.788</td> <th>  Prob(JB):          </th> <td>8.46e-08</td>\n",
       "</tr>\n",
       "<tr>\n",
       "  <th>Kurtosis:</th>      <td> 3.772</td> <th>  Cond. No.          </th> <td>1.71e+06</td>\n",
       "</tr>\n",
       "</table><br/><br/>Notes:<br/>[1] Standard Errors assume that the covariance matrix of the errors is correctly specified.<br/>[2] The condition number is large, 1.71e+06. This might indicate that there are<br/>strong multicollinearity or other numerical problems."
      ],
      "text/plain": [
       "<class 'statsmodels.iolib.summary.Summary'>\n",
       "\"\"\"\n",
       "                            OLS Regression Results                            \n",
       "==============================================================================\n",
       "Dep. Variable:          UG_enrollment   R-squared:                       0.131\n",
       "Model:                            OLS   Adj. R-squared:                  0.117\n",
       "Method:                 Least Squares   F-statistic:                     9.360\n",
       "Date:                Tue, 07 Dec 2021   Prob (F-statistic):           4.61e-07\n",
       "Time:                        17:17:19   Log-Likelihood:                -2040.6\n",
       "No. Observations:                 254   AIC:                             4091.\n",
       "Df Residuals:                     249   BIC:                             4109.\n",
       "Df Model:                           4                                         \n",
       "Covariance Type:            nonrobust                                         \n",
       "================================================================================\n",
       "                   coef    std err          t      P>|t|      [0.025      0.975]\n",
       "--------------------------------------------------------------------------------\n",
       "Intercept    -1741.0396   1234.057     -1.411      0.160   -4171.560     689.481\n",
       "unemprate      108.7094     43.162      2.519      0.012      23.700     193.719\n",
       "perc_admit      34.1865     14.139      2.418      0.016       6.340      62.033\n",
       "hhincome         0.0272      0.005      5.664      0.000       0.018       0.037\n",
       "tuition_fees    -0.0130      0.012     -1.120      0.264      -0.036       0.010\n",
       "==============================================================================\n",
       "Omnibus:                       26.875   Durbin-Watson:                   0.581\n",
       "Prob(Omnibus):                  0.000   Jarque-Bera (JB):               32.572\n",
       "Skew:                           0.788   Prob(JB):                     8.46e-08\n",
       "Kurtosis:                       3.772   Cond. No.                     1.71e+06\n",
       "==============================================================================\n",
       "\n",
       "Notes:\n",
       "[1] Standard Errors assume that the covariance matrix of the errors is correctly specified.\n",
       "[2] The condition number is large, 1.71e+06. This might indicate that there are\n",
       "strong multicollinearity or other numerical problems.\n",
       "\"\"\""
      ]
     },
     "execution_count": 16,
     "metadata": {},
     "output_type": "execute_result"
    }
   ],
   "source": [
    "# now make a MVR with the other variables. \n",
    "# explain why I chose the control variable that I did.\n",
    "# create the model\n",
    "# I left out the following variables: \n",
    "    # state, year, acad_yr, perc_admit, total_enrolled, admissions_yield \n",
    "mvmodel = smf.ols('UG_enrollment ~ unemprate + perc_admit + hhincome + tuition_fees', \n",
    "                  data = acs_ipeds)\n",
    "# fit the model\n",
    "mvresults = mvmodel.fit()\n",
    "# print the results\n",
    "mvresults.summary()"
   ]
  },
  {
   "cell_type": "markdown",
   "id": "b3290e49",
   "metadata": {},
   "source": [
    "#### Results"
   ]
  },
  {
   "cell_type": "markdown",
   "id": "8c2398a4",
   "metadata": {},
   "source": [
    "**13. (3 points) Explain your justification for one of the control variables that you chose to include in the multivariate model.**\n",
    "\n",
    "My original project proposal had too much multicollinearity between the independent variables in the model (e.g., educational attainment and household income), so I paired it down. I chose to control for each state's median household income, and their institutions' average acceptance rate, along with tuition and fees. Controlling for tuition and fees were of particular interest to me because I wanted to see if there might be evidence at the state-level of students being \"priced out\" - that does not appear to be the case.  "
   ]
  },
  {
   "cell_type": "markdown",
   "id": "b867687c",
   "metadata": {},
   "source": [
    "**14. (2 points) Interpret the coefficient on the independent variable of interest in the _bivariate model_.**\n",
    "\n",
    "The bivariate model was looking at the relationship between a state's unemployment rate and it's institutions' average undergraduate enrollment numbers. The unemployment rate coefficient was 28.4620, meaning for every percentage point that the unemployment rate increased, a state's average undergraduate enrollment increased by approximately 28.5 students. "
   ]
  },
  {
   "cell_type": "markdown",
   "id": "df759d85",
   "metadata": {},
   "source": [
    "**15. (2 points) Interpret the coefficient on the independent variable of interest in the _multivariate model_.**\n",
    "\n",
    "When adding the other control variables (i.e., household income, acceptance rate, tuition and fees) into the model, the unemployment rate's coefficient had a sizable increase from about 28.5 to just over 108. In practical terms, that means that this multivariate regression model estimated a boosted average undergrad enrollment of about 108 for every percentage point that the unemployment rate increased, holding the other variables constant. "
   ]
  },
  {
   "cell_type": "markdown",
   "id": "8401fa21",
   "metadata": {},
   "source": [
    "**16. (2 points) Conduct a hypothesis test on the independent variable of interest in the multivariate model.  State the null hypothesis, alternative hypothesis, t-score and result of the test.**"
   ]
  },
  {
   "cell_type": "markdown",
   "id": "25fb1c08",
   "metadata": {},
   "source": [
    "_Null Hypothesis_: In a comparison of states, unemployment rates will have no impact on their institutions' undergraduate enrollment numbers. \n",
    "\n",
    "_Alternative Hypothesis_: In a comparison of states, higher unemployment rates will lead to higher undergraduate enrollment."
   ]
  },
  {
   "cell_type": "markdown",
   "id": "1a04487d",
   "metadata": {},
   "source": [
    "**17. (1 points) In a few sentences, describe your overall findings from your analysis.**\n",
    "\n",
    "We are able to reject the null hypothesis, as the state's unemployment rate appears to have a statistically significant relationship with undergraduate enrollment numbers (_t-score=2.5, p<0.05_). That said, median household income appears to be the most influential independent variable (_t-score=5.7, p<0.05_) when holding the other variables constant. \n",
    "\n",
    "Collectively, the F-statistic suggests that the model is also statistically significant (_p<0.05_) and allows us to reject a null hypothesis postulating that these predictors have no relationship to the undergraduate enrollment numbers.  \n",
    "\n",
    "It is incredibly important to note that a significant amount of the data used for this analysis was imputed using grouped means. In other words, the average for each sector and year was used to fill in institutional missing values (e.g., tuition and fees, admission selectivity, undergraduate enrollment). In a professional setting, the data would be removed or there would be an effort to collect the missing data. \n",
    "\n",
    "A future analysis may also choose to include a wider range of variables and use feature selection methods to build and compare different regression models. "
   ]
  }
 ],
 "metadata": {
  "kernelspec": {
   "display_name": "Python 3",
   "language": "python",
   "name": "python3"
  },
  "language_info": {
   "codemirror_mode": {
    "name": "ipython",
    "version": 3
   },
   "file_extension": ".py",
   "mimetype": "text/x-python",
   "name": "python",
   "nbconvert_exporter": "python",
   "pygments_lexer": "ipython3",
   "version": "3.8.8"
  }
 },
 "nbformat": 4,
 "nbformat_minor": 5
}
